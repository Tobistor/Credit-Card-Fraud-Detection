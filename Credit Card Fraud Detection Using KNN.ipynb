{
 "cells": [
  {
   "cell_type": "code",
   "execution_count": 6,
   "metadata": {},
   "outputs": [
    {
     "name": "stdout",
     "output_type": "stream",
     "text": [
      "CreditCard data provided has rows: 284807 columns: 31\n",
      "Train accuracy: 0.998464\n",
      "Test accuracy: 0.998371\n"
     ]
    },
    {
     "data": {
      "text/plain": [
       "array([0, 0, 0, ..., 0, 0, 0])"
      ]
     },
     "execution_count": 6,
     "metadata": {},
     "output_type": "execute_result"
    }
   ],
   "source": [
    "import pandas as pd\n",
    "from sklearn.model_selection import train_test_split\n",
    "from sklearn.ensemble import AdaBoostClassifier\n",
    "import matplotlib.pyplot as plt\n",
    "import seaborn as sns\n",
    "from sklearn import svm\n",
    "from sklearn.neighbors import KNeighborsClassifier\n",
    "\n",
    "filename = '/Users/Mac/Desktop/creditcard.csv' \n",
    "cc_data = pd.read_csv(filename)\n",
    "#check the data\n",
    "#cc_data.head()\n",
    "#cc_data.tail()\n",
    "#pred_filename = '/Users/Mac/Desktop/cc_test.csv' \n",
    "#pred_data = pd.read_csv(pred_filename)\n",
    "#pred_data.head()\n",
    "\n",
    "print(\"CreditCard data provided has rows:\",cc_data.shape[0], \"columns:\", cc_data.shape[1])\n",
    "\n",
    "X = cc_data[['Time', 'V1', 'V2', 'V3', 'V4', 'V5', 'V6', 'V7', 'V8', 'V9', 'V10',\\\n",
    "             'V11', 'V12', 'V13', 'V14', 'V15', 'V16', 'V17', 'V18', 'V19',\\\n",
    "             'V20', 'V21', 'V22', 'V23', 'V24', 'V25', 'V26', 'V27', 'V28',\\\n",
    "             'Amount']].values\n",
    "y = cc_data['Class']\n",
    "#Check shape\n",
    "X.shape\n",
    "\n",
    "#split data into training and test\n",
    "from sklearn.model_selection import train_test_split\n",
    "\n",
    "X_train, X_test, y_train, y_test = train_test_split(X,y, random_state = 0)\n",
    "X_train.shape\n",
    "\n",
    "#Build Model\n",
    "from sklearn.neighbors import KNeighborsClassifier\n",
    "from sklearn.metrics import confusion_matrix, accuracy_score\n",
    "\n",
    "#Instantiate classifier\n",
    "knn = KNeighborsClassifier()\n",
    "\n",
    "#fit the model\n",
    "knn.fit(X_train, y_train)\n",
    "\n",
    "# obtain the accuracy\n",
    "print(\"Train accuracy: {:3f}\".format(knn.score(X_train, y_train)))\n",
    "print(\"Test accuracy: {:3f}\".format(knn.score(X_test, y_test)))\n",
    "\n",
    "#make prediction on the test set\n",
    "y_pred = knn.predict(X_test)\n",
    "y_pred\n",
    "\n",
    "#cm = confusion_matrix(y_test, y_pred)\n",
    "#cm"
   ]
  },
  {
   "cell_type": "code",
   "execution_count": 8,
   "metadata": {},
   "outputs": [
    {
     "data": {
      "text/plain": [
       "array([0, 0, 0, ..., 0, 0, 0])"
      ]
     },
     "execution_count": 8,
     "metadata": {},
     "output_type": "execute_result"
    }
   ],
   "source": [
    "# Let's try Logistic Regression\n",
    "from sklearn.linear_model import LogisticRegression\n",
    "\n",
    "logreg = LogisticRegression(max_iter=20000)\n",
    "\n",
    "#fitting the model with data\n",
    "logreg.fit(X,y)\n",
    "\n",
    "#predict the response on cc_data i.e our data above - remember it is now X\n",
    "logreg.predict(X)\n",
    "#print (show_result)"
   ]
  },
  {
   "cell_type": "code",
   "execution_count": null,
   "metadata": {},
   "outputs": [],
   "source": []
  }
 ],
 "metadata": {
  "kernelspec": {
   "display_name": "Python 3",
   "language": "python",
   "name": "python3"
  },
  "language_info": {
   "codemirror_mode": {
    "name": "ipython",
    "version": 3
   },
   "file_extension": ".py",
   "mimetype": "text/x-python",
   "name": "python",
   "nbconvert_exporter": "python",
   "pygments_lexer": "ipython3",
   "version": "3.7.6"
  }
 },
 "nbformat": 4,
 "nbformat_minor": 4
}
